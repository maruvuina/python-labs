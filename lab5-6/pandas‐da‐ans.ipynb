{
 "cells": [
  {
   "cell_type": "code",
   "execution_count": 106,
   "id": "22fd2eda",
   "metadata": {},
   "outputs": [],
   "source": [
    "import pandas as pd"
   ]
  },
  {
   "cell_type": "code",
   "execution_count": 107,
   "id": "9fed3a8f",
   "metadata": {},
   "outputs": [],
   "source": [
    "data = pd.read_csv('la-crimes-sample.csv')"
   ]
  },
  {
   "cell_type": "code",
   "execution_count": 108,
   "id": "69871092",
   "metadata": {},
   "outputs": [
    {
     "name": "stdout",
     "output_type": "stream",
     "text": [
      "Rows count: 39608\n"
     ]
    }
   ],
   "source": [
    "print('Rows count:', len(data.index))"
   ]
  },
  {
   "cell_type": "code",
   "execution_count": 109,
   "id": "fad913f2",
   "metadata": {},
   "outputs": [
    {
     "name": "stdout",
     "output_type": "stream",
     "text": [
      "Columns count: 27\n"
     ]
    }
   ],
   "source": [
    "print('Columns count:', len(data.columns))"
   ]
  },
  {
   "cell_type": "code",
   "execution_count": 110,
   "id": "8c78319e",
   "metadata": {},
   "outputs": [],
   "source": [
    "class color:\n",
    "   BOLD = '\\033[1m'\n",
    "   END = '\\033[0m'"
   ]
  },
  {
   "cell_type": "code",
   "execution_count": 111,
   "id": "d1d53b4c",
   "metadata": {},
   "outputs": [
    {
     "name": "stdout",
     "output_type": "stream",
     "text": [
      "+-------------------------+-------------+---------------------+------------+\n",
      "\u001b[1m|       Column Name       | Column Type | Column Unique Value | Null Count |\u001b[0m\n",
      "+-------------------------+-------------+---------------------+------------+\n",
      "|Unnamed: 0               |    int64    |        39608        |     0      |\n",
      "+-------------------------+-------------+---------------------+------------+\n",
      "|DR Number                |    int64    |        39608        |     0      |\n",
      "+-------------------------+-------------+---------------------+------------+\n",
      "|Date Reported            |   object    |        2809         |     0      |\n",
      "+-------------------------+-------------+---------------------+------------+\n",
      "|Date Occurred            |   object    |        2808         |     0      |\n",
      "+-------------------------+-------------+---------------------+------------+\n",
      "|Time Occurred            |    int64    |         900         |     0      |\n",
      "+-------------------------+-------------+---------------------+------------+\n",
      "|Area ID                  |    int64    |         21          |     0      |\n",
      "+-------------------------+-------------+---------------------+------------+\n",
      "|Area Name                |   object    |         21          |     0      |\n",
      "+-------------------------+-------------+---------------------+------------+\n",
      "|Reporting District       |    int64    |        1135         |     0      |\n",
      "+-------------------------+-------------+---------------------+------------+\n",
      "|Crime Code               |    int64    |         115         |     0      |\n",
      "+-------------------------+-------------+---------------------+------------+\n",
      "|Crime Code Description   |   object    |         114         |     7      |\n",
      "+-------------------------+-------------+---------------------+------------+\n",
      "|MO Codes                 |   object    |        14020        |    4291    |\n",
      "+-------------------------+-------------+---------------------+------------+\n",
      "|Victim Age               |   float64   |         91          |    3220    |\n",
      "+-------------------------+-------------+---------------------+------------+\n",
      "|Victim Sex               |   object    |          5          |    3631    |\n",
      "+-------------------------+-------------+---------------------+------------+\n",
      "|Victim Descent           |   object    |         18          |    3632    |\n",
      "+-------------------------+-------------+---------------------+------------+\n",
      "|Premise Code             |   float64   |         190         |     3      |\n",
      "+-------------------------+-------------+---------------------+------------+\n",
      "|Premise Description      |   object    |         171         |     72     |\n",
      "+-------------------------+-------------+---------------------+------------+\n",
      "|Weapon Used Code         |   float64   |         66          |   26530    |\n",
      "+-------------------------+-------------+---------------------+------------+\n",
      "|Weapon Description       |   object    |         66          |   26530    |\n",
      "+-------------------------+-------------+---------------------+------------+\n",
      "|Status Code              |   object    |          6          |     0      |\n",
      "+-------------------------+-------------+---------------------+------------+\n",
      "|Status Description       |   object    |          6          |     0      |\n",
      "+-------------------------+-------------+---------------------+------------+\n",
      "|Crime Code 1             |   float64   |         116         |     0      |\n",
      "+-------------------------+-------------+---------------------+------------+\n",
      "|Crime Code 2             |   float64   |         68          |   37125    |\n",
      "+-------------------------+-------------+---------------------+------------+\n",
      "|Crime Code 3             |   float64   |         10          |   39558    |\n",
      "+-------------------------+-------------+---------------------+------------+\n",
      "|Crime Code 4             |   float64   |          3          |   39606    |\n",
      "+-------------------------+-------------+---------------------+------------+\n",
      "|Address                  |   object    |        19762        |     0      |\n",
      "+-------------------------+-------------+---------------------+------------+\n",
      "|Cross Street             |   object    |        2065         |   32978    |\n",
      "+-------------------------+-------------+---------------------+------------+\n",
      "|Location                 |   object    |        19049        |     1      |\n",
      "+-------------------------+-------------+---------------------+------------+\n"
     ]
    }
   ],
   "source": [
    "print('+{0:-^25}+{1:-^13}+{2:-^21}+{3:-^12}+'.format(\"\",\"\",\"\",\"\"))\n",
    "print(color.BOLD + '|{0:^25}|{1:^13}|{2:^21}|{3:^12}|'.format(\"Column Name\",\"Column Type\",\"Column Unique Value\",\"Null Count\") + color.END)\n",
    "print('+{0:-^25}+{1:-^13}+{2:-^21}+{3:-^12}+'.format(\"\",\"\",\"\",\"\"))\n",
    "for column in data.columns:\n",
    "    print('|{0:25}|{1:^13}|{2:^21}|{3:^12}|'.format(column,str(data[column].dtype),len(data[column].unique()),data[column].isna().sum()))\n",
    "    print('+{0:-^25}+{1:-^13}+{2:-^21}+{3:-^12}+'.format(\"\",\"\",\"\",\"\"))"
   ]
  },
  {
   "cell_type": "code",
   "execution_count": 112,
   "id": "4f16702a",
   "metadata": {},
   "outputs": [
    {
     "data": {
      "text/plain": [
       "<AxesSubplot:title={'center':'Victims by Sex'}, xlabel='Sex', ylabel='Count of victims'>"
      ]
     },
     "execution_count": 112,
     "metadata": {},
     "output_type": "execute_result"
    },
    {
     "data": {
      "image/png": "[encoded data removed]",
      "text/plain": [
       "<Figure size 432x288 with 1 Axes>"
      ]
     },
     "metadata": {
      "needs_background": "light"
     },
     "output_type": "display_data"
    }
   ],
   "source": [
    "victims_by_sex = data['Victim Sex'].value_counts()\n",
    "victims_by_sex.plot(kind='bar', title='Victims by Sex', xlabel='Sex', ylabel='Count of victims')\n",
    "#Чаще жертвами оказываются мужчины."
   ]
  },
  {
   "cell_type": "code",
   "execution_count": 113,
   "id": "95b66307",
   "metadata": {},
   "outputs": [
    {
     "data": {
      "text/plain": [
       "<AxesSubplot:title={'center':'Victims by Age'}, xlabel='Age', ylabel='Count of victims'>"
      ]
     },
     "execution_count": 113,
     "metadata": {},
     "output_type": "execute_result"
    },
    {
     "data": {
      "image/png": "[encoded data removed]",
      "text/plain": [
       "<Figure size 432x288 with 1 Axes>"
      ]
     },
     "metadata": {
      "needs_background": "light"
     },
     "output_type": "display_data"
    }
   ],
   "source": [
    "victims_by_age = data['Victim Age'].value_counts()\n",
    "victims_by_age.iloc[:10].plot(kind='bar', title='Victims by Age', xlabel='Age', ylabel='Count of victims')\n",
    "#Больше всего жертв в возрасте 15 лет."
   ]
  },
  {
   "cell_type": "code",
   "execution_count": 114,
   "id": "529ff1ee",
   "metadata": {},
   "outputs": [],
   "source": [
    "male = data[data['Victim Sex']=='M']\n",
    "female = data[data['Victim Sex']=='F']"
   ]
  },
  {
   "cell_type": "code",
   "execution_count": 115,
   "id": "7ce658a6",
   "metadata": {},
   "outputs": [
    {
     "data": {
      "text/plain": [
       "29.0    433\n",
       "25.0    423\n",
       "27.0    415\n",
       "32.0    406\n",
       "28.0    403\n",
       "Name: Victim Age, dtype: int64"
      ]
     },
     "execution_count": 115,
     "metadata": {},
     "output_type": "execute_result"
    },
    {
     "data": {
      "image/png": "[encoded data removed]",
      "text/plain": [
       "<Figure size 432x288 with 1 Axes>"
      ]
     },
     "metadata": {
      "needs_background": "light"
     },
     "output_type": "display_data"
    }
   ],
   "source": [
    "male['Victim Age'].plot.hist(bins=100, alpha=0.5, title='Male victims by age')\n",
    "male['Victim Age'].value_counts().head() \n",
    "#Мужчины в возрасте 29 лет чаще становятся жертвами."
   ]
  },
  {
   "cell_type": "code",
   "execution_count": 116,
   "id": "ccdca64f",
   "metadata": {},
   "outputs": [
    {
     "data": {
      "text/plain": [
       "25.0    543\n",
       "23.0    523\n",
       "24.0    515\n",
       "27.0    496\n",
       "26.0    481\n",
       "Name: Victim Age, dtype: int64"
      ]
     },
     "execution_count": 116,
     "metadata": {},
     "output_type": "execute_result"
    },
    {
     "data": {
      "image/png": "[encoded data removed]",
      "text/plain": [
       "<Figure size 432x288 with 1 Axes>"
      ]
     },
     "metadata": {
      "needs_background": "light"
     },
     "output_type": "display_data"
    }
   ],
   "source": [
    "female['Victim Age'].plot.hist(bins=100, alpha=0.5, title='Female victims by age')\n",
    "female['Victim Age'].value_counts().head() \n",
    "#Женщины в возрасте 25 лет чаще становятся жертвами."
   ]
  },
  {
   "cell_type": "code",
   "execution_count": 117,
   "id": "80fe68cc",
   "metadata": {},
   "outputs": [
    {
     "data": {
      "text/plain": [
       "BATTERY - SIMPLE ASSAULT                                        3581\n",
       "VEHICLE - STOLEN                                                3048\n",
       "BURGLARY FROM VEHICLE                                           3038\n",
       "BURGLARY                                                        2938\n",
       "THEFT PLAIN - PETTY ($950 & UNDER)                              2866\n",
       "THEFT OF IDENTITY                                               2522\n",
       "INTIMATE PARTNER - SIMPLE ASSAULT                               2147\n",
       "VANDALISM - FELONY ($400 & OVER, ALL CHURCH VANDALISMS) 0114    2027\n",
       "VANDALISM - MISDEAMEANOR ($399 OR UNDER)                        1759\n",
       "ASSAULT WITH DEADLY WEAPON, AGGRAVATED ASSAULT                  1656\n",
       "Name: Crime Code Description, dtype: int64"
      ]
     },
     "execution_count": 117,
     "metadata": {},
     "output_type": "execute_result"
    }
   ],
   "source": [
    "ten_most_common_crimes = data['Crime Code Description'].value_counts().iloc[:10]\n",
    "ten_most_common_crimes"
   ]
  },
  {
   "cell_type": "code",
   "execution_count": 118,
   "id": "710dde67",
   "metadata": {},
   "outputs": [
    {
     "data": {
      "text/plain": [
       "<AxesSubplot:title={'center':'Ten most common crimes'}, xlabel='Crime label', ylabel='Count of victims'>"
      ]
     },
     "execution_count": 118,
     "metadata": {},
     "output_type": "execute_result"
    },
    {
     "data": {
      "image/png": "[encoded data removed]",
      "text/plain": [
       "<Figure size 432x288 with 1 Axes>"
      ]
     },
     "metadata": {
      "needs_background": "light"
     },
     "output_type": "display_data"
    }
   ],
   "source": [
    "ten_most_common_crimes.plot(kind='bar', title='Ten most common crimes', xlabel='Crime label', ylabel='Count of victims')"
   ]
  },
  {
   "cell_type": "code",
   "execution_count": 119,
   "id": "44858de3",
   "metadata": {},
   "outputs": [
    {
     "data": {
      "text/plain": [
       "BATTERY - SIMPLE ASSAULT              1731\n",
       "BURGLARY FROM VEHICLE                 1665\n",
       "BURGLARY                              1632\n",
       "THEFT PLAIN - PETTY ($950 & UNDER)    1499\n",
       "THEFT OF IDENTITY                     1262\n",
       "Name: Crime Code Description, dtype: int64"
      ]
     },
     "execution_count": 119,
     "metadata": {},
     "output_type": "execute_result"
    }
   ],
   "source": [
    "#Самые распространенные преступления над мужчинами.\n",
    "male['Crime Code Description'].value_counts().head()"
   ]
  },
  {
   "cell_type": "code",
   "execution_count": 120,
   "id": "4ccc0f5e",
   "metadata": {},
   "outputs": [
    {
     "data": {
      "text/plain": [
       "BATTERY - SIMPLE ASSAULT              1838\n",
       "INTIMATE PARTNER - SIMPLE ASSAULT     1764\n",
       "BURGLARY FROM VEHICLE                 1361\n",
       "THEFT PLAIN - PETTY ($950 & UNDER)    1294\n",
       "THEFT OF IDENTITY                     1251\n",
       "Name: Crime Code Description, dtype: int64"
      ]
     },
     "execution_count": 120,
     "metadata": {},
     "output_type": "execute_result"
    }
   ],
   "source": [
    "#Самые распространенные преступления над женщинами.\n",
    "female['Crime Code Description'].value_counts().head()"
   ]
  },
  {
   "cell_type": "code",
   "execution_count": 121,
   "id": "49c4417b",
   "metadata": {
    "scrolled": true
   },
   "outputs": [
    {
     "data": {
      "text/plain": [
       "<AxesSubplot:title={'center':'Victim Descent'}, xlabel='Descent', ylabel='Count of victims'>"
      ]
     },
     "execution_count": 121,
     "metadata": {},
     "output_type": "execute_result"
    },
    {
     "data": {
      "image/png": "[encoded data removed]",
      "text/plain": [
       "<Figure size 432x288 with 1 Axes>"
      ]
     },
     "metadata": {
      "needs_background": "light"
     },
     "output_type": "display_data"
    }
   ],
   "source": [
    "victim_descent = data['Victim Descent'].value_counts()\n",
    "victim_descent.plot(kind='bar', title='Victim Descent', xlabel='Descent', ylabel='Count of victims')\n",
    "#Больше всего жертв среди испаноязычного и мексиканского населения."
   ]
  },
  {
   "cell_type": "code",
   "execution_count": 122,
   "id": "0d03b50e",
   "metadata": {},
   "outputs": [
    {
     "data": {
      "text/plain": [
       "77th Street    2752\n",
       "Southwest      2633\n",
       "N Hollywood    2192\n",
       "Pacific        2100\n",
       "Southeast      2086\n",
       "Mission        2008\n",
       "Northeast      1918\n",
       "Van Nuys       1896\n",
       "Devonshire     1873\n",
       "Hollywood      1861\n",
       "Newton         1806\n",
       "Topanga        1762\n",
       "Olympic        1758\n",
       "Harbor         1724\n",
       "West Valley    1683\n",
       "Central        1652\n",
       "West LA        1645\n",
       "Rampart        1628\n",
       "Wilshire       1587\n",
       "Hollenbeck     1552\n",
       "Foothill       1492\n",
       "Name: Area Name, dtype: int64"
      ]
     },
     "execution_count": 122,
     "metadata": {},
     "output_type": "execute_result"
    }
   ],
   "source": [
    "areas = data['Area Name'].value_counts()\n",
    "areas"
   ]
  },
  {
   "cell_type": "code",
   "execution_count": 123,
   "id": "c3d8e03e",
   "metadata": {},
   "outputs": [
    {
     "data": {
      "text/plain": [
       "<AxesSubplot:title={'center':'Danger areas'}>"
      ]
     },
     "execution_count": 123,
     "metadata": {},
     "output_type": "execute_result"
    },
    {
     "data": {
      "image/png": "[encoded data removed]",
      "text/plain": [
       "<Figure size 432x288 with 1 Axes>"
      ]
     },
     "metadata": {
      "needs_background": "light"
     },
     "output_type": "display_data"
    }
   ],
   "source": [
    "danger_areas = areas[:5].sort_values().plot(kind='barh',title='Danger areas')\n",
    "danger_areas"
   ]
  },
  {
   "cell_type": "code",
   "execution_count": 124,
   "id": "cd1c614c",
   "metadata": {},
   "outputs": [
    {
     "data": {
      "text/plain": [
       "<AxesSubplot:title={'center':'Safe areas'}>"
      ]
     },
     "execution_count": 124,
     "metadata": {},
     "output_type": "execute_result"
    },
    {
     "data": {
      "image/png": "[encoded data removed]",
      "text/plain": [
       "<Figure size 432x288 with 1 Axes>"
      ]
     },
     "metadata": {
      "needs_background": "light"
     },
     "output_type": "display_data"
    }
   ],
   "source": [
    "safe_areas = areas[-5:].plot(kind='barh',title='Safe areas')\n",
    "safe_areas"
   ]
  },
  {
   "cell_type": "code",
   "execution_count": 126,
   "id": "41d134b9",
   "metadata": {},
   "outputs": [
    {
     "data": {
      "text/html": [
       "<div>\n",
       "<style scoped>\n",
       "    .dataframe tbody tr th:only-of-type {\n",
       "        vertical-align: middle;\n",
       "    }\n",
       "\n",
       "    .dataframe tbody tr th {\n",
       "        vertical-align: top;\n",
       "    }\n",
       "\n",
       "    .dataframe thead th {\n",
       "        text-align: right;\n",
       "    }\n",
       "</style>\n",
       "<table border=\"1\" class=\"dataframe\">\n",
       "  <thead>\n",
       "    <tr style=\"text-align: right;\">\n",
       "      <th></th>\n",
       "      <th>Area</th>\n",
       "      <th>Victim Descent</th>\n",
       "      <th>Victim Descent Count</th>\n",
       "    </tr>\n",
       "  </thead>\n",
       "  <tbody>\n",
       "    <tr>\n",
       "      <th>5</th>\n",
       "      <td>77th Street</td>\n",
       "      <td>B</td>\n",
       "      <td>1314</td>\n",
       "    </tr>\n",
       "    <tr>\n",
       "      <th>10</th>\n",
       "      <td>Southwest</td>\n",
       "      <td>B</td>\n",
       "      <td>1107</td>\n",
       "    </tr>\n",
       "    <tr>\n",
       "      <th>1</th>\n",
       "      <td>Mission</td>\n",
       "      <td>H</td>\n",
       "      <td>1086</td>\n",
       "    </tr>\n",
       "    <tr>\n",
       "      <th>19</th>\n",
       "      <td>Newton</td>\n",
       "      <td>H</td>\n",
       "      <td>999</td>\n",
       "    </tr>\n",
       "    <tr>\n",
       "      <th>12</th>\n",
       "      <td>Pacific</td>\n",
       "      <td>W</td>\n",
       "      <td>975</td>\n",
       "    </tr>\n",
       "    <tr>\n",
       "      <th>11</th>\n",
       "      <td>Hollenbeck</td>\n",
       "      <td>H</td>\n",
       "      <td>969</td>\n",
       "    </tr>\n",
       "    <tr>\n",
       "      <th>14</th>\n",
       "      <td>N Hollywood</td>\n",
       "      <td>W</td>\n",
       "      <td>949</td>\n",
       "    </tr>\n",
       "    <tr>\n",
       "      <th>20</th>\n",
       "      <td>Southeast</td>\n",
       "      <td>B</td>\n",
       "      <td>914</td>\n",
       "    </tr>\n",
       "    <tr>\n",
       "      <th>13</th>\n",
       "      <td>West LA</td>\n",
       "      <td>W</td>\n",
       "      <td>851</td>\n",
       "    </tr>\n",
       "    <tr>\n",
       "      <th>8</th>\n",
       "      <td>Rampart</td>\n",
       "      <td>H</td>\n",
       "      <td>848</td>\n",
       "    </tr>\n",
       "    <tr>\n",
       "      <th>9</th>\n",
       "      <td>Hollywood</td>\n",
       "      <td>W</td>\n",
       "      <td>739</td>\n",
       "    </tr>\n",
       "    <tr>\n",
       "      <th>4</th>\n",
       "      <td>Devonshire</td>\n",
       "      <td>W</td>\n",
       "      <td>728</td>\n",
       "    </tr>\n",
       "    <tr>\n",
       "      <th>15</th>\n",
       "      <td>Foothill</td>\n",
       "      <td>H</td>\n",
       "      <td>715</td>\n",
       "    </tr>\n",
       "    <tr>\n",
       "      <th>2</th>\n",
       "      <td>Olympic</td>\n",
       "      <td>H</td>\n",
       "      <td>708</td>\n",
       "    </tr>\n",
       "    <tr>\n",
       "      <th>18</th>\n",
       "      <td>Topanga</td>\n",
       "      <td>W</td>\n",
       "      <td>705</td>\n",
       "    </tr>\n",
       "    <tr>\n",
       "      <th>3</th>\n",
       "      <td>Northeast</td>\n",
       "      <td>H</td>\n",
       "      <td>692</td>\n",
       "    </tr>\n",
       "    <tr>\n",
       "      <th>7</th>\n",
       "      <td>Van Nuys</td>\n",
       "      <td>W</td>\n",
       "      <td>677</td>\n",
       "    </tr>\n",
       "    <tr>\n",
       "      <th>0</th>\n",
       "      <td>Harbor</td>\n",
       "      <td>H</td>\n",
       "      <td>673</td>\n",
       "    </tr>\n",
       "    <tr>\n",
       "      <th>16</th>\n",
       "      <td>West Valley</td>\n",
       "      <td>W</td>\n",
       "      <td>642</td>\n",
       "    </tr>\n",
       "    <tr>\n",
       "      <th>17</th>\n",
       "      <td>Wilshire</td>\n",
       "      <td>W</td>\n",
       "      <td>541</td>\n",
       "    </tr>\n",
       "    <tr>\n",
       "      <th>6</th>\n",
       "      <td>Central</td>\n",
       "      <td>H</td>\n",
       "      <td>500</td>\n",
       "    </tr>\n",
       "  </tbody>\n",
       "</table>\n",
       "</div>"
      ],
      "text/plain": [
       "           Area Victim Descent  Victim Descent Count\n",
       "5   77th Street              B                  1314\n",
       "10    Southwest              B                  1107\n",
       "1       Mission              H                  1086\n",
       "19       Newton              H                   999\n",
       "12      Pacific              W                   975\n",
       "11   Hollenbeck              H                   969\n",
       "14  N Hollywood              W                   949\n",
       "20    Southeast              B                   914\n",
       "13      West LA              W                   851\n",
       "8       Rampart              H                   848\n",
       "9     Hollywood              W                   739\n",
       "4    Devonshire              W                   728\n",
       "15     Foothill              H                   715\n",
       "2       Olympic              H                   708\n",
       "18      Topanga              W                   705\n",
       "3     Northeast              H                   692\n",
       "7      Van Nuys              W                   677\n",
       "0        Harbor              H                   673\n",
       "16  West Valley              W                   642\n",
       "17     Wilshire              W                   541\n",
       "6       Central              H                   500"
      ]
     },
     "execution_count": 126,
     "metadata": {},
     "output_type": "execute_result"
    }
   ],
   "source": [
    "#Жертвы в каждом районе в зависимости от происхождения.\n",
    "unique_areas = pd.unique(data['Area Name'])\n",
    "unique_areas\n",
    "most_often_crimes_in_each_area = []\n",
    "for i in range(len(unique_areas)):\n",
    "    row_of_most_victim_descent = data[data['Area Name']==unique_areas[i]]['Victim Descent'].value_counts()[:1]\n",
    "    most_often_crimes_in_each_area.append({ \n",
    "        'Area' : unique_areas[i],\n",
    "        'Victim Descent' : row_of_most_victim_descent.index.values[0],\n",
    "        'Victim Descent Count' : row_of_most_victim_descent[0]\n",
    "    })\n",
    "pd.DataFrame(most_often_crimes_in_each_area).sort_values(by='Victim Descent Count', ascending=False)"
   ]
  }
 ],
 "metadata": {
  "kernelspec": {
   "display_name": "Python 3",
   "language": "python",
   "name": "python3"
  },
  "language_info": {
   "codemirror_mode": {
    "name": "ipython",
    "version": 3
   },
   "file_extension": ".py",
   "mimetype": "text/x-python",
   "name": "python",
   "nbconvert_exporter": "python",
   "pygments_lexer": "ipython3",
   "version": "3.8.8"
  }
 },
 "nbformat": 4,
 "nbformat_minor": 5
}
